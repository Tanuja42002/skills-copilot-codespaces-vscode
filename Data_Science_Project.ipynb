{
  "nbformat": 4,
  "nbformat_minor": 0,
  "metadata": {
    "colab": {
      "provenance": [],
      "authorship_tag": "ABX9TyNPym2LYTG2eb4QgWw3HQK6",
      "include_colab_link": true
    },
    "kernelspec": {
      "name": "python3",
      "display_name": "Python 3"
    },
    "language_info": {
      "name": "python"
    }
  },
  "cells": [
    {
      "cell_type": "markdown",
      "metadata": {
        "id": "view-in-github",
        "colab_type": "text"
      },
      "source": [
        "<a href=\"https://colab.research.google.com/github/Tanuja42002/skills-copilot-codespaces-vscode/blob/main/Data_Science_Project.ipynb\" target=\"_parent\"><img src=\"https://colab.research.google.com/assets/colab-badge.svg\" alt=\"Open In Colab\"/></a>"
      ]
    },
    {
      "cell_type": "markdown",
      "source": [
        "# Walmart Sales Analysis\n"
      ],
      "metadata": {
        "id": "3JzLDAdJMbMQ"
      }
    },
    {
      "cell_type": "markdown",
      "source": [
        "**Installing Libraries**"
      ],
      "metadata": {
        "id": "zebsEnoCNItV"
      }
    },
    {
      "cell_type": "code",
      "execution_count": 1,
      "metadata": {
        "colab": {
          "base_uri": "https://localhost:8080/"
        },
        "id": "ax-srwWIKBSF",
        "outputId": "71bae6a0-2257-4c8f-ded3-23ed105d1ba8"
      },
      "outputs": [
        {
          "output_type": "stream",
          "name": "stdout",
          "text": [
            "Requirement already satisfied: pandas in /usr/local/lib/python3.10/dist-packages (2.2.2)\n",
            "Requirement already satisfied: openpyxl in /usr/local/lib/python3.10/dist-packages (3.1.5)\n",
            "Requirement already satisfied: matplotlib in /usr/local/lib/python3.10/dist-packages (3.7.1)\n",
            "Requirement already satisfied: numpy>=1.22.4 in /usr/local/lib/python3.10/dist-packages (from pandas) (1.26.4)\n",
            "Requirement already satisfied: python-dateutil>=2.8.2 in /usr/local/lib/python3.10/dist-packages (from pandas) (2.8.2)\n",
            "Requirement already satisfied: pytz>=2020.1 in /usr/local/lib/python3.10/dist-packages (from pandas) (2024.2)\n",
            "Requirement already satisfied: tzdata>=2022.7 in /usr/local/lib/python3.10/dist-packages (from pandas) (2024.2)\n",
            "Requirement already satisfied: et-xmlfile in /usr/local/lib/python3.10/dist-packages (from openpyxl) (1.1.0)\n",
            "Requirement already satisfied: contourpy>=1.0.1 in /usr/local/lib/python3.10/dist-packages (from matplotlib) (1.3.0)\n",
            "Requirement already satisfied: cycler>=0.10 in /usr/local/lib/python3.10/dist-packages (from matplotlib) (0.12.1)\n",
            "Requirement already satisfied: fonttools>=4.22.0 in /usr/local/lib/python3.10/dist-packages (from matplotlib) (4.54.1)\n",
            "Requirement already satisfied: kiwisolver>=1.0.1 in /usr/local/lib/python3.10/dist-packages (from matplotlib) (1.4.7)\n",
            "Requirement already satisfied: packaging>=20.0 in /usr/local/lib/python3.10/dist-packages (from matplotlib) (24.1)\n",
            "Requirement already satisfied: pillow>=6.2.0 in /usr/local/lib/python3.10/dist-packages (from matplotlib) (10.4.0)\n",
            "Requirement already satisfied: pyparsing>=2.3.1 in /usr/local/lib/python3.10/dist-packages (from matplotlib) (3.2.0)\n",
            "Requirement already satisfied: six>=1.5 in /usr/local/lib/python3.10/dist-packages (from python-dateutil>=2.8.2->pandas) (1.16.0)\n"
          ]
        }
      ],
      "source": [
        "pip install pandas openpyxl matplotlib\n"
      ]
    },
    {
      "cell_type": "markdown",
      "source": [
        "**Loading Excel File**"
      ],
      "metadata": {
        "id": "iB6ON4EGMtjp"
      }
    },
    {
      "cell_type": "code",
      "source": [
        "import pandas as pd\n",
        "import matplotlib.pyplot as plt\n",
        "\n",
        "file_path = 'Walmart_Sales.xlsx'\n",
        "data = pd.read_excel(file_path)\n",
        "print(data)"
      ],
      "metadata": {
        "colab": {
          "base_uri": "https://localhost:8080/"
        },
        "id": "DkBi3fhJKdxp",
        "outputId": "0ee882c9-0783-48a2-c689-03baa0f71beb"
      },
      "execution_count": 3,
      "outputs": [
        {
          "output_type": "stream",
          "name": "stdout",
          "text": [
            "      Invoice ID Branch       City Customer type  Gender  \\\n",
            "0    750-67-8428      A     Yangon        Member  Female   \n",
            "1    226-31-3081      A  Naypyitaw        Normal  Female   \n",
            "2    631-41-3108      A     Yangon        Normal    Male   \n",
            "3    123-19-1176      B     Yangon        Member    Male   \n",
            "4    373-73-7910      C     Yangon        Normal    Male   \n",
            "..           ...    ...        ...           ...     ...   \n",
            "995  233-67-5758      A  Naypyitaw        Normal    Male   \n",
            "996  303-96-2227      A   Mandalay        Normal  Female   \n",
            "997  727-02-1313      A     Yangon        Member    Male   \n",
            "998  347-56-2442      B     Yangon        Normal    Male   \n",
            "999  849-09-3807      C     Yangon        Member  Female   \n",
            "\n",
            "               Product line  Unit price  Quantity       Date      Time  \\\n",
            "0         Health and beauty       74.69         7   1/5/2019  13:08:00   \n",
            "1    Electronic accessories       15.28         5   3/8/2019  10:29:00   \n",
            "2        Home and lifestyle       46.33         7   3/3/2019  13:23:00   \n",
            "3         Health and beauty       58.22         8  1/27/2019  20:33:00   \n",
            "4         Sports and travel       86.31         7   2/8/2019  10:37:00   \n",
            "..                      ...         ...       ...        ...       ...   \n",
            "995       Health and beauty       40.35         1  1/29/2019  13:46:00   \n",
            "996      Home and lifestyle       97.38        10   3/2/2019  17:16:00   \n",
            "997      Food and beverages       31.84         1   2/9/2019  13:22:00   \n",
            "998      Home and lifestyle       65.82         1  2/22/2019  15:33:00   \n",
            "999     Fashion accessories       88.34         7  2/18/2019  13:28:00   \n",
            "\n",
            "         Payment  Rating  \n",
            "0        Ewallet     9.1  \n",
            "1           Cash     9.6  \n",
            "2    Credit card     7.4  \n",
            "3        Ewallet     8.4  \n",
            "4        Ewallet     5.3  \n",
            "..           ...     ...  \n",
            "995      Ewallet     6.2  \n",
            "996      Ewallet     4.4  \n",
            "997         Cash     7.7  \n",
            "998         Cash     4.1  \n",
            "999         Cash     6.6  \n",
            "\n",
            "[1000 rows x 12 columns]\n"
          ]
        }
      ]
    },
    {
      "cell_type": "markdown",
      "source": [
        "**Analyze the performance of sales and revenue at the city and branch level**"
      ],
      "metadata": {
        "id": "Kpnb0XDtM9WJ"
      }
    },
    {
      "cell_type": "code",
      "source": [
        "sales_performance = data.groupby(['City', 'Branch']).agg(\n",
        "    Total_Sales=pd.NamedAgg(column='Unit price', aggfunc='sum'),\n",
        "    Total_Quantity=pd.NamedAgg(column='Quantity', aggfunc='sum')\n",
        ").reset_index()\n",
        "\n",
        "print(\"Sales Performance by City and Branch:\")\n",
        "print(sales_performance)"
      ],
      "metadata": {
        "colab": {
          "base_uri": "https://localhost:8080/"
        },
        "id": "VB7pKno_LE6y",
        "outputId": "6d51e877-7daf-4a37-fdc6-4fe3ecb95642"
      },
      "execution_count": 5,
      "outputs": [
        {
          "output_type": "stream",
          "name": "stdout",
          "text": [
            "Sales Performance by City and Branch:\n",
            "        City Branch  Total_Sales  Total_Quantity\n",
            "0   Mandalay      A      6349.11             637\n",
            "1   Mandalay      B      6623.73             664\n",
            "2   Mandalay      C      5506.04             519\n",
            "3  Naypyitaw      A      5953.55             648\n",
            "4  Naypyitaw      B      6298.64             604\n",
            "5  Naypyitaw      C      6315.57             579\n",
            "6     Yangon      A      6342.88             598\n",
            "7     Yangon      B      6329.25             631\n",
            "8     Yangon      C      5953.36             630\n"
          ]
        }
      ]
    },
    {
      "cell_type": "markdown",
      "source": [
        "**What is the average price of an item sold at each branch of the city**"
      ],
      "metadata": {
        "id": "vPRc3tAzNjvb"
      }
    },
    {
      "cell_type": "code",
      "source": [
        "average_price = data.groupby(['City', 'Branch']).agg(\n",
        "    Average_Price=pd.NamedAgg(column='Unit price', aggfunc='mean')\n",
        ").reset_index()\n",
        "\n",
        "print(\"\\nAverage Price of Items Sold at Each Branch:\")\n",
        "print(average_price)"
      ],
      "metadata": {
        "colab": {
          "base_uri": "https://localhost:8080/"
        },
        "id": "rvg2zYKeLu08",
        "outputId": "16cfa055-822e-4689-c890-612e97df5f1a"
      },
      "execution_count": 6,
      "outputs": [
        {
          "output_type": "stream",
          "name": "stdout",
          "text": [
            "\n",
            "Average Price of Items Sold at Each Branch:\n",
            "        City Branch  Average_Price\n",
            "0   Mandalay      A      53.353866\n",
            "1   Mandalay      B      56.133305\n",
            "2   Mandalay      C      57.958316\n",
            "3  Naypyitaw      A      54.123182\n",
            "4  Naypyitaw      B      57.785688\n",
            "5  Naypyitaw      C      57.941009\n",
            "6     Yangon      A      55.639298\n",
            "7     Yangon      B      56.011062\n",
            "8     Yangon      C      52.684602\n"
          ]
        }
      ]
    },
    {
      "cell_type": "markdown",
      "source": [
        "**Analyze the performance of sales and revenue, Month over Month across the\n",
        "Product line, Gender, and Payment Method, and identify the focus areas to\n",
        "get better sales for April 2019.**"
      ],
      "metadata": {
        "id": "RdCAioEeNuBp"
      }
    },
    {
      "cell_type": "code",
      "source": [
        "data['Date'] = pd.to_datetime(data['Date'])  # Ensure 'Date' is in datetime format\n",
        "data['Month'] = data['Date'].dt.to_period('M')  # Extract month and year\n",
        "\n",
        "monthly_performance = data.groupby(['Month', 'Product line', 'Gender', 'Payment']).agg(\n",
        "    Total_Sales=pd.NamedAgg(column='Unit price', aggfunc='sum'),\n",
        "    Total_Quantity=pd.NamedAgg(column='Quantity', aggfunc='sum')\n",
        ").reset_index()\n",
        "\n",
        "print(\"\\nMonthly Performance of Sales and Revenue:\")\n",
        "print(monthly_performance)\n",
        "\n",
        "# Filter for April 2019\n",
        "april_2019 = monthly_performance[monthly_performance['Month'] == '2019-04']\n",
        "\n",
        "print(\"\\nFocus Areas for Better Sales in April 2019:\")\n",
        "print(april_2019)"
      ],
      "metadata": {
        "colab": {
          "base_uri": "https://localhost:8080/"
        },
        "id": "k9ukLZDxL6OY",
        "outputId": "e1109894-877f-46ba-f0d9-081450013e5d"
      },
      "execution_count": 7,
      "outputs": [
        {
          "output_type": "stream",
          "name": "stdout",
          "text": [
            "\n",
            "Monthly Performance of Sales and Revenue:\n",
            "       Month            Product line  Gender      Payment  Total_Sales  \\\n",
            "0    2019-01  Electronic accessories  Female         Cash       534.48   \n",
            "1    2019-01  Electronic accessories  Female  Credit card       371.20   \n",
            "2    2019-01  Electronic accessories  Female      Ewallet       251.77   \n",
            "3    2019-01  Electronic accessories    Male         Cash       552.72   \n",
            "4    2019-01  Electronic accessories    Male  Credit card       433.88   \n",
            "..       ...                     ...     ...          ...          ...   \n",
            "103  2019-03       Sports and travel  Female  Credit card       432.22   \n",
            "104  2019-03       Sports and travel  Female      Ewallet       499.89   \n",
            "105  2019-03       Sports and travel    Male         Cash       493.88   \n",
            "106  2019-03       Sports and travel    Male  Credit card       483.38   \n",
            "107  2019-03       Sports and travel    Male      Ewallet       804.95   \n",
            "\n",
            "     Total_Quantity  \n",
            "0                52  \n",
            "1                54  \n",
            "2                43  \n",
            "3                62  \n",
            "4                43  \n",
            "..              ...  \n",
            "103              52  \n",
            "104              53  \n",
            "105              36  \n",
            "106              60  \n",
            "107              86  \n",
            "\n",
            "[108 rows x 6 columns]\n",
            "\n",
            "Focus Areas for Better Sales in April 2019:\n",
            "Empty DataFrame\n",
            "Columns: [Month, Product line, Gender, Payment, Total_Sales, Total_Quantity]\n",
            "Index: []\n"
          ]
        }
      ]
    }
  ]
}